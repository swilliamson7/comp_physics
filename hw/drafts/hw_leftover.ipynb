{
 "cells": [
  {
   "cell_type": "markdown",
   "id": "2a9d54a3",
   "metadata": {},
   "source": [
    "# Arrays, cellular automata, and percolation \n",
    "\n",
    "Think of these homeworks like solving a crossword puzzle: the answers are easy to find online, but the fun part is seeing how far you can get without looking up the solutions.\n",
    "\n",
    "If you are new to Python and finding this problem set to be a severe time burden, don't worry too much about it---just do what you can. Please feel free to use any resources---online code, classmates, textbooks, etc---to help with this problem set if needed. Please cite your sources or acknowledges classmate or online repos (as you would in a publication). \n",
    "\n",
    "Imports: Make sure these are installed in your conda env, and that the conda env is active in your notebook\n",
    "+ numpy\n",
    "+ matplotlib\n",
    "+ scipy"
   ]
  },
  {
   "cell_type": "code",
   "execution_count": 7,
   "id": "9ee03d2d-906b-4dee-aee1-b48f2a17a887",
   "metadata": {},
   "outputs": [],
   "source": [
    "import numpy as np\n",
    "import matplotlib.pyplot as plt\n",
    "%matplotlib inline"
   ]
  },
  {
   "cell_type": "markdown",
   "id": "3ba5c2f2",
   "metadata": {},
   "source": [
    "# The convolution theorem\n",
    "\n",
    "\n",
    "We're now going to try implementing the Game of Life a different way, that looks a little more reminiscent of the way that many modern computer vision algoritms operate on images. (William has an [paper](https://journals.aps.org/pre/abstract/10.1103/PhysRevE.100.032402) about this connection).\n",
    "The basic idea is to implement a each step of the game using convolutions.\n",
    "\n",
    "Conway's Game of Life is what's known as an outer-totalistic cellular automaton: the update rule for a given pixel depends only on two pieces of information: (1) the sum of the pixel values surrounding a given cell, and (2) the value of the pixel. We can write these two calculation as two convolutions:\n",
    "\n",
    "We can use scipy.signal.convolve2d to easily implement this\n",
    "\n",
    "\n",
    "In physics, we extensively use the convolution theorem:\n",
    "\n",
    "In image space, \n",
    "\n",
    "\n",
    "Q: What does this formula look like in discrete/summation notation?\n",
    "Q: Based on Eq. XX, your response above, and your familiarity with $\\mathcal{O}(N)$ analysis, when might it be preferable to perform discrete convolutions in real versus frequency space?\n",
    "\n",
    "\n",
    "scipy can actually use both methods, and decide based on the input size, shape, and boundary conditions.\n",
    "\n"
   ]
  },
  {
   "cell_type": "code",
   "execution_count": null,
   "id": "e10001bd",
   "metadata": {},
   "outputs": [],
   "source": []
  },
  {
   "cell_type": "code",
   "execution_count": null,
   "id": "0c0416dc",
   "metadata": {},
   "outputs": [],
   "source": []
  },
  {
   "cell_type": "code",
   "execution_count": null,
   "id": "b8eff4b6",
   "metadata": {},
   "outputs": [],
   "source": []
  }
 ],
 "metadata": {
  "kernelspec": {
   "display_name": "Python 3.8.11 ('phys381')",
   "language": "python",
   "name": "python3"
  },
  "language_info": {
   "codemirror_mode": {
    "name": "ipython",
    "version": 3
   },
   "file_extension": ".py",
   "mimetype": "text/x-python",
   "name": "python",
   "nbconvert_exporter": "python",
   "pygments_lexer": "ipython3",
   "version": "3.8.11"
  },
  "vscode": {
   "interpreter": {
    "hash": "dd2d507358018fbaed212338faa319de6206d9a642fdbeff386a22163c5069f1"
   }
  }
 },
 "nbformat": 4,
 "nbformat_minor": 5
}
