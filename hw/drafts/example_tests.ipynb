{
 "cells": [
  {
   "cell_type": "code",
   "execution_count": null,
   "id": "20fc18bc-073d-4702-abf7-a7d6752a4e37",
   "metadata": {},
   "outputs": [],
   "source": [
    "%%bash\n",
    "\n",
    "python -m unittest\n"
   ]
  },
  {
   "cell_type": "code",
   "execution_count": 21,
   "id": "19ffca29-df79-4e63-a936-a65d58aa72e8",
   "metadata": {},
   "outputs": [],
   "source": [
    "import unittest"
   ]
  },
  {
   "cell_type": "markdown",
   "id": "1c2aa230-398c-4543-a438-2d6d57d8832f",
   "metadata": {},
   "source": [
    "How does the power method scale with the number of iterations"
   ]
  },
  {
   "cell_type": "code",
   "execution_count": 28,
   "id": "acafd8bb-5d10-42ae-bce7-20c781b306aa",
   "metadata": {},
   "outputs": [
    {
     "data": {
      "text/plain": [
       "unittest.case.TestCase"
      ]
     },
     "execution_count": 28,
     "metadata": {},
     "output_type": "execute_result"
    }
   ],
   "source": [
    "unittest.TestCase"
   ]
  },
  {
   "cell_type": "markdown",
   "id": "6107e54d-5586-4471-a615-59daf2e996e1",
   "metadata": {},
   "source": [
    "# Run Tests to see that everything is working"
   ]
  },
  {
   "cell_type": "code",
   "execution_count": 24,
   "id": "c45efa15-2e25-43dc-99b2-4ab56166acbc",
   "metadata": {},
   "outputs": [
    {
     "name": "stderr",
     "output_type": "stream",
     "text": [
      "..."
     ]
    },
    {
     "name": "stdout",
     "output_type": "stream",
     "text": [
      "/Users/williamgilpin/Documents/courses/phys381c_fall2022/hw1\n",
      "None\n",
      "21:32:53\n"
     ]
    },
    {
     "name": "stderr",
     "output_type": "stream",
     "text": [
      "\n",
      "----------------------------------------------------------------------\n",
      "Ran 3 tests in 0.001s\n",
      "\n",
      "OK\n"
     ]
    },
    {
     "data": {
      "text/plain": [
       "<unittest.main.TestProgram at 0x7f8bd8bfa100>"
      ]
     },
     "execution_count": 24,
     "metadata": {},
     "output_type": "execute_result"
    }
   ],
   "source": [
    "import sys, os, unittest\n",
    "from datetime import datetime\n",
    "\n",
    "class TestPowerMethod(unittest.TestCase):\n",
    "\n",
    "    def test_initialization(self):\n",
    "        method = PowerMethod(max_iter=13)\n",
    "        assert method.max_iter == 13\n",
    "\n",
    "    def test_fitting(self):\n",
    "        assert True\n",
    "\n",
    "    def test_eigspec(self):\n",
    "        np.random.random((5,5))\n",
    "\n",
    "\n",
    "print(print(os.getcwd()))\n",
    "print(datetime.now().strftime(\"%H:%M:%S\"))\n",
    "\n",
    "unittest.main(argv=[''], exit=False)\n",
    "\n"
   ]
  },
  {
   "cell_type": "code",
   "execution_count": null,
   "id": "5f8c3957-096f-49a3-a127-1a040723c598",
   "metadata": {},
   "outputs": [],
   "source": []
  }
 ],
 "metadata": {
  "kernelspec": {
   "display_name": "Python 3.8.11 ('phys381')",
   "language": "python",
   "name": "python3"
  },
  "language_info": {
   "codemirror_mode": {
    "name": "ipython",
    "version": 3
   },
   "file_extension": ".py",
   "mimetype": "text/x-python",
   "name": "python",
   "nbconvert_exporter": "python",
   "pygments_lexer": "ipython3",
   "version": "3.8.11"
  },
  "vscode": {
   "interpreter": {
    "hash": "dd2d507358018fbaed212338faa319de6206d9a642fdbeff386a22163c5069f1"
   }
  }
 },
 "nbformat": 4,
 "nbformat_minor": 5
}
