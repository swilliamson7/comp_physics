{
 "cells": [
  {
   "cell_type": "markdown",
   "id": "9ee03d2d-906b-4dee-aee1-b48f2a17a887",
   "metadata": {},
   "source": [
    "# Random forests, feature importance, decision boundaries\n",
    "\n",
    "\n",
    "### Additional information\n",
    "\n",
    "An isolation forest uses a CART-like algorithm to identify outliers in a sample. A random forest is trained on data with outliers in order to isolate each point (as if it had its own label, different from all other points). Across many trees outliers, will tend to separate out at lower depths than non-outliers, allowing an outlier score calculation for each input datapoint, based on the average depth at which that datapoint splits from the remainder of the data:\n",
    "+ https://cs.nju.edu.cn/zhouzh/zhouzh.files/publication/icdm08b.pdf\n",
    "+ The normalizing factor in Eq. 2 has an interesting relationship with Big-O scaling of worst case vs average case for binary trees"
   ]
  },
  {
   "cell_type": "code",
   "execution_count": null,
   "id": "d46a440c-feb4-4003-99ca-5fece3c4c4b2",
   "metadata": {},
   "outputs": [],
   "source": []
  },
  {
   "cell_type": "code",
   "execution_count": null,
   "id": "32a11bb3-27bc-4150-81ba-ce76bd730521",
   "metadata": {},
   "outputs": [],
   "source": []
  },
  {
   "cell_type": "code",
   "execution_count": null,
   "id": "aa027f6a-5ecd-4a3f-9a4b-7d5ae7cc0345",
   "metadata": {},
   "outputs": [],
   "source": []
  },
  {
   "cell_type": "code",
   "execution_count": null,
   "id": "169637b0-6a6e-4e14-852a-d6115f698300",
   "metadata": {},
   "outputs": [],
   "source": []
  }
 ],
 "metadata": {
  "kernelspec": {
   "display_name": "Python 3 (ipykernel)",
   "language": "python",
   "name": "python3"
  },
  "language_info": {
   "codemirror_mode": {
    "name": "ipython",
    "version": 3
   },
   "file_extension": ".py",
   "mimetype": "text/x-python",
   "name": "python",
   "nbconvert_exporter": "python",
   "pygments_lexer": "ipython3",
   "version": "3.8.11"
  }
 },
 "nbformat": 4,
 "nbformat_minor": 5
}
