{
 "cells": [
  {
   "cell_type": "markdown",
   "id": "6d083b5c-40db-4ebf-8656-d9e1eb657f46",
   "metadata": {},
   "source": []
  },
  {
   "cell_type": "code",
   "execution_count": null,
   "id": "baacd396-d0dc-4bc3-b780-aa9ebd1c1cb9",
   "metadata": {},
   "outputs": [],
   "source": []
  },
  {
   "cell_type": "code",
   "execution_count": null,
   "id": "b699de32-48db-4713-9d16-341a64c4e78e",
   "metadata": {},
   "outputs": [],
   "source": []
  },
  {
   "cell_type": "markdown",
   "id": "2b85efd7-fabd-42a1-99ab-094cf65d8501",
   "metadata": {},
   "source": [
    "# Scikit-learn"
   ]
  },
  {
   "cell_type": "code",
   "execution_count": null,
   "id": "744c933b-8a40-4d92-bff2-d5f22d4ad28d",
   "metadata": {},
   "outputs": [],
   "source": []
  },
  {
   "cell_type": "code",
   "execution_count": null,
   "id": "bc3d236c-e88f-4b07-b66d-7060fb48245a",
   "metadata": {},
   "outputs": [],
   "source": []
  },
  {
   "cell_type": "markdown",
   "id": "72f4183f-b62f-4c06-9f77-19be535078da",
   "metadata": {},
   "source": [
    "# PyTorch"
   ]
  },
  {
   "cell_type": "code",
   "execution_count": null,
   "id": "4a14ae9c-d1d6-48a4-9eeb-0caa0d814117",
   "metadata": {},
   "outputs": [],
   "source": []
  },
  {
   "cell_type": "code",
   "execution_count": null,
   "id": "a7f8745e-a1bb-4381-a6fb-b00043e426be",
   "metadata": {},
   "outputs": [],
   "source": []
  },
  {
   "cell_type": "code",
   "execution_count": null,
   "id": "6ab8c1a6-b059-4c3e-8aad-a0cb7f7e1f2f",
   "metadata": {},
   "outputs": [],
   "source": []
  },
  {
   "cell_type": "markdown",
   "id": "24376a3f-e347-4ef0-9290-c8741fe2b566",
   "metadata": {},
   "source": [
    "# JAX"
   ]
  },
  {
   "cell_type": "code",
   "execution_count": null,
   "id": "530d859e-38ad-4fa5-9809-0914465aaa94",
   "metadata": {},
   "outputs": [],
   "source": []
  },
  {
   "cell_type": "code",
   "execution_count": null,
   "id": "2e699183-7568-486a-9141-841402472b34",
   "metadata": {},
   "outputs": [],
   "source": []
  },
  {
   "cell_type": "code",
   "execution_count": null,
   "id": "3a756be2-97fd-4eb0-96b6-c8e332ff9ba7",
   "metadata": {},
   "outputs": [],
   "source": []
  },
  {
   "cell_type": "code",
   "execution_count": null,
   "id": "2f14ecb3-571d-45ea-9176-50b5e6ce5e64",
   "metadata": {},
   "outputs": [],
   "source": []
  },
  {
   "cell_type": "code",
   "execution_count": 3,
   "id": "2f00e489-c390-432b-9011-b1dccd83dfdb",
   "metadata": {},
   "outputs": [
    {
     "data": {
      "text/plain": [
       "13"
      ]
     },
     "execution_count": 3,
     "metadata": {},
     "output_type": "execute_result"
    }
   ],
   "source": [
    "# def factorization(n):\n",
    "#     factors = defaultdict(int)\n",
    "#     for p1 in primefactors(n):\n",
    "#         factors[p1] += 1        \n",
    "#     return factors\n",
    "\n",
    "# def unique_factorise(n):\n",
    "#     return set(primefactors(n))\n",
    "\n",
    "# def totient(n):\n",
    "#     if n == 0: return 1\n",
    "\n",
    "#     try: return totients[n]\n",
    "#     except KeyError: pass\n",
    "\n",
    "#     tot = 1\n",
    "#     for p, exp in factorization(n).items():\n",
    "#         tot *= (p - 1)  *  p ** (exp - 1)\n",
    "\n",
    "#     totients[n] = tot\n",
    "#     return tot\n",
    "\n",
    "def gcd(a, b):\n",
    "    \"\"\"Compute the greatest common divisor of two integers\"\"\"\n",
    "    if a == b: return a\n",
    "    while b > 0: a, b = b, a % b\n",
    "    return a\n",
    "\n",
    "def lcm(a, b):\n",
    "    \"\"\"Compute the least common multiple of two integers\"\"\"\n",
    "    return abs((a // gcd(a, b)) * b)\n",
    "\n",
    "def prime_factorization(n):\n",
    "    \"\"\"\n",
    "    Compute the prime factorization of an integer using the Pollard-Brent algorithm\n",
    "    \n",
    "    Args:\n",
    "    n (int): a number to be factored\n",
    "    \n",
    "    Returns\n",
    "    g\n",
    "    \"\"\"\n",
    "    if n % 2 == 0: \n",
    "        return 2\n",
    "    if n % 3 == 0: \n",
    "        return 3\n",
    "\n",
    "    y, c, m = random.randint(1, n-1), random.randint(1, n-1), random.randint(1, n-1)\n",
    "    g, r, q = 1, 1, 1\n",
    "    while g == 1:\n",
    "        x = y\n",
    "        for i in range(r):\n",
    "            y = (pow(y, 2, n) + c) % n\n",
    "\n",
    "        k = 0\n",
    "        while k < r and g==1:\n",
    "            ys = y\n",
    "            for i in range(min(m, r-k)):\n",
    "                y = (pow(y, 2, n) + c) % n\n",
    "                q = q * abs(x-y) % n\n",
    "            g = gcd(q, n)\n",
    "            k += m\n",
    "        r *= 2\n",
    "    if g == n:\n",
    "        while True:\n",
    "            ys = (pow(ys, 2, n) + c) % n\n",
    "            g = gcd(abs(x - ys), n)\n",
    "            if g > 1:\n",
    "                break\n",
    "\n",
    "    return g\n",
    "\n",
    "prime_factorization(13)"
   ]
  },
  {
   "cell_type": "code",
   "execution_count": null,
   "id": "7c79bfbd-cae5-4d7f-9d19-d9bc37fe3528",
   "metadata": {},
   "outputs": [],
   "source": [
    "totients = {}\n",
    "def primesbelow(N):\n",
    "    # http://stackoverflow.com/questions/2068372/fastest-way-to-list-all-primes-below-n-in-python/3035188#3035188\n",
    "    #\"\"\" Input N>=6, Returns a list of primes, 2 <= p < N \"\"\"\n",
    "    correction = N % 6 > 1\n",
    "    N = {0:N, 1:N-1, 2:N+4, 3:N+3, 4:N+2, 5:N+1}[N%6]\n",
    "    sieve = [True] * (N // 3)\n",
    "    sieve[0] = False\n",
    "    for i in range(int(N ** .5) // 3 + 1):\n",
    "        if sieve[i]:\n",
    "            k = (3 * i + 1) | 1\n",
    "            sieve[k*k // 3::2*k] = [False] * ((N//6 - (k*k)//6 - 1)//k + 1)\n",
    "            sieve[(k*k + 4*k - 2*k*(i%2)) // 3::2*k] = [False] * ((N // 6 - (k*k + 4*k - 2*k*(i%2))//6 - 1) // k + 1)\n",
    "    return [2, 3] + [(3 * i + 1) | 1 for i in range(1, N//3 - correction) if sieve[i]]"
   ]
  },
  {
   "cell_type": "code",
   "execution_count": null,
   "id": "e8ab3b3a-102f-4bf9-871a-9744de8445b3",
   "metadata": {},
   "outputs": [],
   "source": [
    "prime_list = \n",
    "\n",
    "prime_factorization "
   ]
  },
  {
   "cell_type": "code",
   "execution_count": null,
   "id": "8ad7f690-5065-4383-b554-ed603b07d2fb",
   "metadata": {},
   "outputs": [],
   "source": []
  },
  {
   "cell_type": "markdown",
   "id": "df644c4f-3f15-412d-b81d-794ad9a09def",
   "metadata": {},
   "source": [
    "Examples of UMAP and other embedding techniques in the wild:\n",
    "    \n",
    "+ Visualizing internal states of artificial neural networks given different input images. (1 datapoint = 1 input image, 1 feature = one output dimension in an intermediate layer)\n",
    "+ Visualizing relationships between thousands of cells taken from a mouse. (1 datapoint = 1 cell, 1 feature = expression level of one gene)\n",
    "+ "
   ]
  },
  {
   "cell_type": "code",
   "execution_count": null,
   "id": "54b38d3a-af8b-47df-9c90-fd0f2c986999",
   "metadata": {},
   "outputs": [],
   "source": []
  }
 ],
 "metadata": {
  "kernelspec": {
   "display_name": "Python 3 (ipykernel)",
   "language": "python",
   "name": "python3"
  },
  "language_info": {
   "codemirror_mode": {
    "name": "ipython",
    "version": 3
   },
   "file_extension": ".py",
   "mimetype": "text/x-python",
   "name": "python",
   "nbconvert_exporter": "python",
   "pygments_lexer": "ipython3",
   "version": "3.8.11"
  }
 },
 "nbformat": 4,
 "nbformat_minor": 5
}
